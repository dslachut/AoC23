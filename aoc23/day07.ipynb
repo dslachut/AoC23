{
 "cells": [
  {
   "cell_type": "code",
   "execution_count": 1,
   "id": "d1fe1cd3-fcec-41fd-bcf2-7b3e479cc6d0",
   "metadata": {},
   "outputs": [],
   "source": [
    "test_input = '''32T3K 765\n",
    "T55J5 684\n",
    "KK677 28\n",
    "KTJJT 220\n",
    "QQQJA 483\n",
    "'''\n",
    "test_output_1 = 6440\n",
    "test_output_2 = 5905"
   ]
  },
  {
   "cell_type": "code",
   "execution_count": 2,
   "id": "7b333d91-918c-4f50-80d6-e1c3af857bd6",
   "metadata": {},
   "outputs": [],
   "source": [
    "from functools import total_ordering, cached_property\n",
    "from collections import Counter"
   ]
  },
  {
   "cell_type": "code",
   "execution_count": 3,
   "id": "293eec25-dcc8-4ec7-a312-82fcdf21db5e",
   "metadata": {
    "jupyter": {
     "source_hidden": true
    }
   },
   "outputs": [],
   "source": [
    "class Hand:\n",
    "\n",
    "    vals = {'A':14, 'K':13, 'Q':12, 'J':11, 'T':10, '9':9, '8':8, '7':7, '6':6, '5':5, '4':4, '3':3, '2':2}\n",
    "    \n",
    "    def __init__(self, cards:str, bid:str):\n",
    "        self.bid = int(bid)\n",
    "        self.cards = [self.vals[c] for c in cards]\n",
    "\n",
    "    @cached_property\n",
    "    def type(self):\n",
    "        ctr = Counter(self.cards)\n",
    "        cts = set(ctr.values())\n",
    "        if 5 in cts:\n",
    "            return 6\n",
    "        if 4 in cts:\n",
    "            return 5\n",
    "        if cts == {2,3}:\n",
    "            return 4\n",
    "        if 3 in cts:\n",
    "            return 3\n",
    "        if sorted(ctr.values())[-2:] == [2,2]:\n",
    "            return 2\n",
    "        if 2 in cts:\n",
    "            return 1\n",
    "        return 0\n",
    "\n",
    "    def asdict(self):\n",
    "        return {'bid': self.bid, 'cards': self.cards}\n",
    "\n",
    "    def __eq__(self, other):\n",
    "        if not isinstance(other, Hand):\n",
    "            return False\n",
    "        return self.cards == other.cards\n",
    "\n",
    "    def __lt__(self, other):\n",
    "        return (self.type, self.cards) < (other.type, other.cards)"
   ]
  },
  {
   "cell_type": "code",
   "execution_count": 10,
   "id": "dd01a3b9-0ddc-49bc-90a7-cd5679edd40c",
   "metadata": {},
   "outputs": [],
   "source": [
    "class Hand2:\n",
    "\n",
    "    vals = {'A':14, 'K':13, 'Q':12, 'J':1, 'T':10, '9':9, '8':8, '7':7, '6':6, '5':5, '4':4, '3':3, '2':2}\n",
    "    \n",
    "    def __init__(self, cards:str, bid:str):\n",
    "        self.bid = int(bid)\n",
    "        self.cards = [self.vals[c] for c in cards]\n",
    "\n",
    "    @cached_property\n",
    "    def type(self):\n",
    "        ctr = Counter(self.cards)\n",
    "        cts = set(ctr.values())\n",
    "        if 5 in cts:\n",
    "            return 6\n",
    "        if 4 in cts:\n",
    "            if self.vals['J'] in ctr:\n",
    "                return 6\n",
    "            return 5\n",
    "        if cts == {2,3}:\n",
    "            if self.vals['J'] in ctr:\n",
    "                return 6\n",
    "            return 4\n",
    "        if 3 in cts:\n",
    "            if self.vals['J'] in ctr:\n",
    "                return 5\n",
    "            return 3\n",
    "        if sorted(ctr.values())[-2:] == [2,2]:\n",
    "            if j := ctr.get(self.vals['J']):\n",
    "                if j == 2:\n",
    "                    return 5\n",
    "                return 4\n",
    "            return 2\n",
    "        if 2 in cts:\n",
    "            if j:= ctr.get(self.vals['J']):\n",
    "                return 3\n",
    "            return 1\n",
    "        if self.vals['J'] in ctr:\n",
    "            return 1\n",
    "        return 0\n",
    "\n",
    "    def asdict(self):\n",
    "        return {'bid': self.bid, 'cards': self.cards, 'type': self.type}\n",
    "\n",
    "    def __eq__(self, other):\n",
    "        if not isinstance(other, Hand):\n",
    "            return False\n",
    "        return self.cards == other.cards\n",
    "\n",
    "    def __lt__(self, other):\n",
    "        return (self.type, self.cards) < (other.type, other.cards)"
   ]
  },
  {
   "cell_type": "code",
   "execution_count": 11,
   "id": "1a000fe6-ee93-41ea-938a-479b8f50cbd5",
   "metadata": {},
   "outputs": [
    {
     "data": {
      "text/plain": [
       "{'bid': 483, 'cards': [12, 12, 12, 11, 14]}"
      ]
     },
     "execution_count": 11,
     "metadata": {},
     "output_type": "execute_result"
    }
   ],
   "source": [
    "def parse_input(text):\n",
    "    return [Hand(*line.split(' ')) for line in text.strip().split('\\n')]\n",
    "sorted(parse_input(test_input))[-1].asdict()"
   ]
  },
  {
   "cell_type": "code",
   "execution_count": 12,
   "id": "450c6e66-f05c-44a1-b640-401bd33ee753",
   "metadata": {},
   "outputs": [],
   "source": [
    "def solve1(text):\n",
    "    hands = sorted(parse_input(text))\n",
    "    return sum((i+1) * h.bid for i,h in enumerate(hands))\n",
    "assert solve1(test_input) == test_output_1"
   ]
  },
  {
   "cell_type": "code",
   "execution_count": 13,
   "id": "f7517fc6-5f89-43bf-910d-202fa0e07288",
   "metadata": {},
   "outputs": [
    {
     "name": "stdout",
     "output_type": "stream",
     "text": [
      "248569531\n"
     ]
    }
   ],
   "source": [
    "with open('day07.txt') as FILE:\n",
    "    print(solve1(FILE.read()))"
   ]
  },
  {
   "cell_type": "code",
   "execution_count": 14,
   "id": "2c510c98-9167-467f-9d72-5511f12e8532",
   "metadata": {},
   "outputs": [],
   "source": [
    "def solve2(text):\n",
    "    hands = sorted([Hand2(*line.split(' ')) for line in text.strip().split('\\n')])\n",
    "    return sum((i+1) * h.bid for i,h in enumerate(hands))\n",
    "assert solve2(test_input) == test_output_2"
   ]
  },
  {
   "cell_type": "code",
   "execution_count": 15,
   "id": "caea14df-74b8-490e-bf53-b4c0dda0f2c1",
   "metadata": {},
   "outputs": [
    {
     "name": "stdout",
     "output_type": "stream",
     "text": [
      "250382098\n"
     ]
    }
   ],
   "source": [
    "with open('day07.txt') as FILE:\n",
    "    print(solve2(FILE.read()))"
   ]
  },
  {
   "cell_type": "code",
   "execution_count": null,
   "id": "c1c66d6e-054e-461b-86b9-1e8fe9c2ed30",
   "metadata": {},
   "outputs": [],
   "source": []
  }
 ],
 "metadata": {
  "kernelspec": {
   "display_name": "Python 3 (ipykernel)",
   "language": "python",
   "name": "python3"
  },
  "language_info": {
   "codemirror_mode": {
    "name": "ipython",
    "version": 3
   },
   "file_extension": ".py",
   "mimetype": "text/x-python",
   "name": "python",
   "nbconvert_exporter": "python",
   "pygments_lexer": "ipython3",
   "version": "3.10.12"
  }
 },
 "nbformat": 4,
 "nbformat_minor": 5
}
