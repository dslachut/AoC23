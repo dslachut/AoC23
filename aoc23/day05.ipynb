{
 "cells": [
  {
   "cell_type": "code",
   "execution_count": 1,
   "id": "bb8d1d39-4048-4dac-9dd4-1e533f1d0e98",
   "metadata": {},
   "outputs": [],
   "source": [
    "test_input = '''seeds: 79 14 55 13\n",
    "\n",
    "seed-to-soil map:\n",
    "50 98 2\n",
    "52 50 48\n",
    "\n",
    "soil-to-fertilizer map:\n",
    "0 15 37\n",
    "37 52 2\n",
    "39 0 15\n",
    "\n",
    "fertilizer-to-water map:\n",
    "49 53 8\n",
    "0 11 42\n",
    "42 0 7\n",
    "57 7 4\n",
    "\n",
    "water-to-light map:\n",
    "88 18 7\n",
    "18 25 70\n",
    "\n",
    "light-to-temperature map:\n",
    "45 77 23\n",
    "81 45 19\n",
    "68 64 13\n",
    "\n",
    "temperature-to-humidity map:\n",
    "0 69 1\n",
    "1 0 69\n",
    "\n",
    "humidity-to-location map:\n",
    "60 56 37\n",
    "56 93 4\n",
    "'''\n",
    "test_output_1 = 35\n",
    "test_output_2 = 46"
   ]
  },
  {
   "cell_type": "code",
   "execution_count": 2,
   "id": "0fea7053-f9a5-4f33-8fa9-d2a9f698530b",
   "metadata": {},
   "outputs": [],
   "source": [
    "from collections import defaultdict\n",
    "from dataclasses import dataclass\n",
    "from functools import cached_property"
   ]
  },
  {
   "cell_type": "code",
   "execution_count": 3,
   "id": "0be72c2d-1ab5-48af-8574-29ac930da8cf",
   "metadata": {},
   "outputs": [],
   "source": [
    "def check_mappings(n, mappings):\n",
    "    for m in mappings:\n",
    "        if dst:= m.src_to_dst(n):\n",
    "            return dst\n",
    "    return n\n",
    "\n",
    "def reverse_mappings(n, mappings):\n",
    "    for m in mappings:\n",
    "        if src:=m.dst_to_src(n):\n",
    "            return src\n",
    "    return n"
   ]
  },
  {
   "cell_type": "code",
   "execution_count": 4,
   "id": "7aa51418-5afc-4325-a81e-e7b42c5bba7a",
   "metadata": {},
   "outputs": [],
   "source": [
    "@dataclass\n",
    "class Mapping:\n",
    "    dst_start: int\n",
    "    src_start: int\n",
    "    range_len: int\n",
    "\n",
    "    def src_to_dst(self, src):\n",
    "        if self.src_start+self.range_len > src >= self.src_start:\n",
    "            return src-self.src_start + self.dst_start\n",
    "        return False\n",
    "\n",
    "    def dst_to_src(self, dst):\n",
    "        if self.dst_start <= dst < self.dst_start + self.range_len:\n",
    "            return dst - self.dst_start + self.src_start\n",
    "        return False"
   ]
  },
  {
   "cell_type": "code",
   "execution_count": 5,
   "id": "852d1e7a-7f82-44ca-9ed6-8a360267ac2b",
   "metadata": {},
   "outputs": [],
   "source": [
    "@dataclass\n",
    "class SeedRange:\n",
    "    start: int\n",
    "    range_len: int\n",
    "\n",
    "    def in_range(self, n):\n",
    "        return self.start <= n < self.start + self.range_len"
   ]
  },
  {
   "cell_type": "code",
   "execution_count": 6,
   "id": "4e33f50f-4ba5-4a06-86f2-143425e9b2be",
   "metadata": {},
   "outputs": [],
   "source": [
    "@dataclass\n",
    "class Seed:\n",
    "    seed: int\n",
    "    soil: int = -1\n",
    "    fert: int = -1\n",
    "    watr: int = -1\n",
    "    lght: int = -1\n",
    "    temp: int = -1\n",
    "    humi: int = -1\n",
    "    loca: int = -1\n",
    "\n",
    "    def fillout(self, mappings):\n",
    "        self.soil = check_mappings(self.seed, mappings['soil'])\n",
    "        self.fert = check_mappings(self.soil, mappings['fertilizer'])\n",
    "        self.watr = check_mappings(self.fert, mappings['water'])\n",
    "        self.lght = check_mappings(self.watr, mappings['light'])\n",
    "        self.temp = check_mappings(self.lght, mappings['temperature'])\n",
    "        self.humi = check_mappings(self.temp, mappings['humidity'])\n",
    "        self.loca = check_mappings(self.humi, mappings['location'])\n",
    "\n",
    "    @classmethod\n",
    "    def from_loc(cls, mappings, loc):\n",
    "        hum = reverse_mappings(loc, mappings['location'])\n",
    "        tem = reverse_mappings(hum, mappings['humidity'])\n",
    "        lig = reverse_mappings(tem, mappings['temperature'])\n",
    "        wat = reverse_mappings(lig, mappings['light'])\n",
    "        fer = reverse_mappings(wat, mappings['water'])\n",
    "        soi = reverse_mappings(fer, mappings['fertilizer'])\n",
    "        see = reverse_mappings(soi, mappings['soil'])\n",
    "        return cls(see, soi, fer, wat, lig, tem, hum, loc)"
   ]
  },
  {
   "cell_type": "code",
   "execution_count": 7,
   "id": "8ce873a0-34aa-4fa7-a1c8-e32244059763",
   "metadata": {},
   "outputs": [],
   "source": [
    "def parse_almanac(text):\n",
    "    chapters = text.strip().split('\\n\\n')\n",
    "    seeds1 = []\n",
    "    mappings = defaultdict(list)\n",
    "    seed_ranges = []\n",
    "    for ch in chapters:\n",
    "        chname, chnums = (x.strip() for x in ch.split(':'))\n",
    "        if chname == 'seeds':\n",
    "            seed_nums = chnums.strip().split(' ')\n",
    "            seeds1 = [Seed(int(n)) for n in seed_nums]\n",
    "            #seeds2 = {n for i in range(0, len(seed_nums), 2) for n in range(int(seed_nums[i]), int(seed_nums[i])+int(seed_nums[i+1]))}\n",
    "            seed_ranges = [SeedRange(int(seed_nums[i]), int(seed_nums[i+1])) for i in range(0, len(seed_nums), 2)]\n",
    "            continue\n",
    "        chname = chname.replace(' map', '').split('-to-')[1]\n",
    "        for row in chnums.strip().split('\\n'):\n",
    "            mappings[chname].append(Mapping(*[int(n) for n in row.strip().split(' ')]))\n",
    "    return seeds1, dict(mappings), seed_ranges\n",
    "#parse_almanac(test_input)"
   ]
  },
  {
   "cell_type": "code",
   "execution_count": 8,
   "id": "1596e266-f677-4be7-bfcd-df0c74ece3de",
   "metadata": {},
   "outputs": [],
   "source": [
    "def solve1(text):\n",
    "    seeds, mappings, _ = parse_almanac(text)\n",
    "    for seed in seeds:\n",
    "        seed.fillout(mappings)\n",
    "    return sorted(seeds, key=lambda x:x.loca)[0].loca\n",
    "assert solve1(test_input) == test_output_1"
   ]
  },
  {
   "cell_type": "code",
   "execution_count": 10,
   "id": "eb72f18f-ad13-4e49-bc22-b7ab62f592c5",
   "metadata": {},
   "outputs": [],
   "source": [
    "def solve2(text):\n",
    "    _, mappings, seed_ranges = parse_almanac(text)\n",
    "    loc = 0\n",
    "    while loc < 3_000_000_000:\n",
    "        loc += 1\n",
    "        seed = Seed.from_loc(mappings, loc)\n",
    "        for sr in seed_ranges:\n",
    "            if sr.in_range(seed.seed):\n",
    "                return loc\n",
    "    #_, mappings, seeds = parse_almanac(text)\n",
    "    #min_loc = float('inf')\n",
    "    #for seed in seeds:\n",
    "    #    seed.fillout(mappings)\n",
    "    #    min_loc = min(min_loc, seed.loca)\n",
    "    #return min_loc\n",
    "assert solve2(test_input) == test_output_2"
   ]
  },
  {
   "cell_type": "code",
   "execution_count": 11,
   "id": "fb73fff7-5379-471e-b8be-ba2e0292dde5",
   "metadata": {},
   "outputs": [
    {
     "name": "stdout",
     "output_type": "stream",
     "text": [
      "318728750\n"
     ]
    }
   ],
   "source": [
    "with open('day05.txt') as FILE:\n",
    "    print(solve1(FILE.read()))"
   ]
  },
  {
   "cell_type": "code",
   "execution_count": 12,
   "id": "6e03f8e1-e81a-468d-908f-2e404a2f5b76",
   "metadata": {},
   "outputs": [
    {
     "name": "stdout",
     "output_type": "stream",
     "text": [
      "37384986\n"
     ]
    }
   ],
   "source": [
    "with open('day05.txt') as FILE:\n",
    "    print(solve2(FILE.read()))"
   ]
  },
  {
   "cell_type": "code",
   "execution_count": null,
   "id": "74a247f9-200f-42c1-8348-06673c74da94",
   "metadata": {},
   "outputs": [],
   "source": []
  }
 ],
 "metadata": {
  "kernelspec": {
   "display_name": "Python 3 (ipykernel)",
   "language": "python",
   "name": "python3"
  },
  "language_info": {
   "codemirror_mode": {
    "name": "ipython",
    "version": 3
   },
   "file_extension": ".py",
   "mimetype": "text/x-python",
   "name": "python",
   "nbconvert_exporter": "python",
   "pygments_lexer": "ipython3",
   "version": "3.10.12"
  }
 },
 "nbformat": 4,
 "nbformat_minor": 5
}
