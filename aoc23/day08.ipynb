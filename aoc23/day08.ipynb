{
 "cells": [
  {
   "cell_type": "code",
   "execution_count": 1,
   "id": "c478e85b-1b53-453b-bba5-1aa6056a7635",
   "metadata": {},
   "outputs": [],
   "source": [
    "test_input_1 = \"\"\"RL\n",
    "\n",
    "AAA = (BBB, CCC)\n",
    "BBB = (DDD, EEE)\n",
    "CCC = (ZZZ, GGG)\n",
    "DDD = (DDD, DDD)\n",
    "EEE = (EEE, EEE)\n",
    "GGG = (GGG, GGG)\n",
    "ZZZ = (ZZZ, ZZZ)\n",
    "\"\"\"\n",
    "test_output_1 = 2\n",
    "test_input_2 = \"\"\"LLR\n",
    "\n",
    "AAA = (BBB, BBB)\n",
    "BBB = (AAA, ZZZ)\n",
    "ZZZ = (ZZZ, ZZZ)\n",
    "\"\"\"\n",
    "test_output_2 = 6\n",
    "test_input_3 = \"\"\"LR\n",
    "\n",
    "11A = (11B, XXX)\n",
    "11B = (XXX, 11Z)\n",
    "11Z = (11B, XXX)\n",
    "22A = (22B, XXX)\n",
    "22B = (22C, 22C)\n",
    "22C = (22Z, 22Z)\n",
    "22Z = (22B, 22B)\n",
    "XXX = (XXX, XXX)\n",
    "\"\"\"\n",
    "test_output_3 = 6"
   ]
  },
  {
   "cell_type": "code",
   "execution_count": 2,
   "id": "1be3b6b9-92b7-4160-94d5-acf82275e86e",
   "metadata": {},
   "outputs": [],
   "source": [
    "import math"
   ]
  },
  {
   "cell_type": "code",
   "execution_count": 3,
   "id": "ff0920a1-8738-4fc3-8c6a-85e93a51747e",
   "metadata": {},
   "outputs": [],
   "source": [
    "def nav_seq(text):\n",
    "    while True:\n",
    "        for c in text:\n",
    "            yield c"
   ]
  },
  {
   "cell_type": "code",
   "execution_count": 4,
   "id": "80dad1f2-744c-492e-bc3b-fbaab807378e",
   "metadata": {},
   "outputs": [
    {
     "data": {
      "text/plain": [
       "(<generator object nav_seq at 0x7e1e7bd2f840>,\n",
       " {'AAA': {'L': 'BBB', 'R': 'CCC'},\n",
       "  'BBB': {'L': 'DDD', 'R': 'EEE'},\n",
       "  'CCC': {'L': 'ZZZ', 'R': 'GGG'},\n",
       "  'DDD': {'L': 'DDD', 'R': 'DDD'},\n",
       "  'EEE': {'L': 'EEE', 'R': 'EEE'},\n",
       "  'GGG': {'L': 'GGG', 'R': 'GGG'},\n",
       "  'ZZZ': {'L': 'ZZZ', 'R': 'ZZZ'}})"
      ]
     },
     "execution_count": 4,
     "metadata": {},
     "output_type": "execute_result"
    }
   ],
   "source": [
    "def parse_input(text):\n",
    "    nav_seq_txt, graph_txt = text.strip().split('\\n\\n')\n",
    "    direction = nav_seq(nav_seq_txt)\n",
    "    glines = [l.replace(' = (', ' ').replace(', ', ' ').replace(')', '').split(' ') for l in graph_txt.split('\\n')]\n",
    "    graph = {f: {'L':l, 'R': r} for f,l,r in glines}\n",
    "    return direction, graph\n",
    "parse_input(test_input_1)"
   ]
  },
  {
   "cell_type": "code",
   "execution_count": 5,
   "id": "ab5e628a-1546-4863-bdae-f0f9aed381aa",
   "metadata": {},
   "outputs": [],
   "source": [
    "def solve1(text):\n",
    "    direction, graph = parse_input(text)\n",
    "    steps = 0\n",
    "    location = 'AAA'\n",
    "    while location != 'ZZZ':\n",
    "        steps += 1\n",
    "        location = graph[location][next(direction)]\n",
    "    return steps\n",
    "assert solve1(test_input_1) == test_output_1\n",
    "assert solve1(test_input_2) == test_output_2"
   ]
  },
  {
   "cell_type": "code",
   "execution_count": 6,
   "id": "c4f8fd60-c8c7-4ae5-9b41-e496c9180e6a",
   "metadata": {},
   "outputs": [
    {
     "name": "stdout",
     "output_type": "stream",
     "text": [
      "17263\n"
     ]
    }
   ],
   "source": [
    "with open('day08.txt') as FILE:\n",
    "    print(solve1(FILE.read()))"
   ]
  },
  {
   "cell_type": "code",
   "execution_count": 7,
   "id": "3e9a177a-305b-4b55-b616-71ae9f16e800",
   "metadata": {},
   "outputs": [],
   "source": [
    "def all_done(locs):\n",
    "    return all([l.endswith('Z') for l in locs])"
   ]
  },
  {
   "cell_type": "code",
   "execution_count": 8,
   "id": "609d273d-a4f1-4923-8383-fa185922ab5f",
   "metadata": {},
   "outputs": [
    {
     "name": "stdout",
     "output_type": "stream",
     "text": [
      "['AAA']\n",
      "['AAA']\n",
      "['11A', '22A']\n"
     ]
    }
   ],
   "source": [
    "def solve2(text):\n",
    "    direction, graph = parse_input(text)\n",
    "    locations = [n for n in graph.keys() if n.endswith('A')]\n",
    "    steps = [0 for _ in locations]\n",
    "    print(locations)\n",
    "    while not all_done(locations):\n",
    "        d = next(direction)\n",
    "        for i, l in enumerate(locations):\n",
    "            if l.endswith('Z'):\n",
    "                continue\n",
    "            steps[i] += 1\n",
    "            locations[i] = graph[l][d]\n",
    "    return math.lcm(*steps)\n",
    "assert solve2(test_input_1) == test_output_1\n",
    "assert solve2(test_input_2) == test_output_2\n",
    "assert solve2(test_input_3) == test_output_3"
   ]
  },
  {
   "cell_type": "code",
   "execution_count": 9,
   "id": "200d8c1c-5d4e-470a-8b66-663b4c176c8f",
   "metadata": {},
   "outputs": [
    {
     "name": "stdout",
     "output_type": "stream",
     "text": [
      "['GCA', 'AAA', 'CMA', 'QNA', 'FTA', 'CBA']\n",
      "14631604759649\n"
     ]
    }
   ],
   "source": [
    "with open('day08.txt') as FILE:\n",
    "    print(solve2(FILE.read()))"
   ]
  },
  {
   "cell_type": "code",
   "execution_count": null,
   "id": "1e387b29-fc3d-454f-87aa-abe806e23f1a",
   "metadata": {},
   "outputs": [],
   "source": []
  }
 ],
 "metadata": {
  "kernelspec": {
   "display_name": "Python 3 (ipykernel)",
   "language": "python",
   "name": "python3"
  },
  "language_info": {
   "codemirror_mode": {
    "name": "ipython",
    "version": 3
   },
   "file_extension": ".py",
   "mimetype": "text/x-python",
   "name": "python",
   "nbconvert_exporter": "python",
   "pygments_lexer": "ipython3",
   "version": "3.10.12"
  }
 },
 "nbformat": 4,
 "nbformat_minor": 5
}
