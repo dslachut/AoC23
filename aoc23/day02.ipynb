{
 "cells": [
  {
   "cell_type": "code",
   "execution_count": 5,
   "id": "8f88937c-9ff6-4c33-a544-7b70782c64c7",
   "metadata": {},
   "outputs": [],
   "source": [
    "test_input_1a = '''Game 1: 3 blue, 4 red; 1 red, 2 green, 6 blue; 2 green\n",
    "Game 2: 1 blue, 2 green; 3 green, 4 blue, 1 red; 1 green, 1 blue\n",
    "Game 3: 8 green, 6 blue, 20 red; 5 blue, 4 red, 13 green; 5 green, 1 red\n",
    "Game 4: 1 green, 3 red, 6 blue; 3 green, 6 red; 3 green, 15 blue, 14 red\n",
    "Game 5: 6 red, 1 blue, 3 green; 2 blue, 1 red, 2 green\n",
    "'''\n",
    "test_input_1b = (12,13,14)\n",
    "test_output_1 = 8"
   ]
  },
  {
   "cell_type": "code",
   "execution_count": 1,
   "id": "096f3cf8-6e04-4745-b01e-000574f15ea4",
   "metadata": {},
   "outputs": [],
   "source": [
    "def parse_game(line:str):\n",
    "    game = {'pulls':[], 'min_green':0, 'min_blue':0, 'min_red':0}\n",
    "    game_name, pulls = line.strip().split(':')\n",
    "    game['id'] = int(game_name.strip().split(' ')[1])\n",
    "    for pull_txt in pulls.strip().split(';'):\n",
    "        p = {}\n",
    "        for cnt_color in pull_txt.strip().split(','):\n",
    "            count, color = cnt_color.strip().split(' ')\n",
    "            count = int(count)\n",
    "            p[color] = count\n",
    "            game[f'min_{color}'] = max(game[f'min_{color}'],count)\n",
    "        game['pulls'].append(p)\n",
    "    return game"
   ]
  },
  {
   "cell_type": "code",
   "execution_count": 2,
   "id": "4029c008-e009-4121-b194-33d74f48a1e2",
   "metadata": {},
   "outputs": [],
   "source": [
    "def parse_all_games(lines):\n",
    "    return [parse_game(line) for line in lines.split('\\n') if len(line)>0]"
   ]
  },
  {
   "cell_type": "code",
   "execution_count": 7,
   "id": "13f43f88-c593-4237-8343-43286b5fe0dc",
   "metadata": {},
   "outputs": [
    {
     "data": {
      "text/plain": [
       "[{'pulls': [{'blue': 3, 'red': 4},\n",
       "   {'red': 1, 'green': 2, 'blue': 6},\n",
       "   {'green': 2}],\n",
       "  'min_green': 2,\n",
       "  'min_blue': 6,\n",
       "  'min_red': 4,\n",
       "  'id': 1},\n",
       " {'pulls': [{'blue': 1, 'green': 2},\n",
       "   {'green': 3, 'blue': 4, 'red': 1},\n",
       "   {'green': 1, 'blue': 1}],\n",
       "  'min_green': 3,\n",
       "  'min_blue': 4,\n",
       "  'min_red': 1,\n",
       "  'id': 2},\n",
       " {'pulls': [{'green': 8, 'blue': 6, 'red': 20},\n",
       "   {'blue': 5, 'red': 4, 'green': 13},\n",
       "   {'green': 5, 'red': 1}],\n",
       "  'min_green': 13,\n",
       "  'min_blue': 6,\n",
       "  'min_red': 20,\n",
       "  'id': 3},\n",
       " {'pulls': [{'green': 1, 'red': 3, 'blue': 6},\n",
       "   {'green': 3, 'red': 6},\n",
       "   {'green': 3, 'blue': 15, 'red': 14}],\n",
       "  'min_green': 3,\n",
       "  'min_blue': 15,\n",
       "  'min_red': 14,\n",
       "  'id': 4},\n",
       " {'pulls': [{'red': 6, 'blue': 1, 'green': 3},\n",
       "   {'blue': 2, 'red': 1, 'green': 2}],\n",
       "  'min_green': 3,\n",
       "  'min_blue': 2,\n",
       "  'min_red': 6,\n",
       "  'id': 5}]"
      ]
     },
     "execution_count": 7,
     "metadata": {},
     "output_type": "execute_result"
    }
   ],
   "source": [
    "parse_all_games(test_input_1a)"
   ]
  },
  {
   "cell_type": "code",
   "execution_count": 3,
   "id": "fae102f6-d071-4cce-83e2-80a84d0dec44",
   "metadata": {},
   "outputs": [],
   "source": [
    "def sum_valid_ids(lines, available):\n",
    "    id_sum = 0\n",
    "    for game in parse_all_games(lines):\n",
    "        max_red, max_green, max_blue = available\n",
    "        if max_red < game['min_red'] or max_blue < game['min_blue'] or max_green < game['min_green']:\n",
    "            continue\n",
    "        id_sum += game['id']\n",
    "    return id_sum"
   ]
  },
  {
   "cell_type": "code",
   "execution_count": 8,
   "id": "591dfb0f-a5fc-4842-90a2-ce7cd05460dc",
   "metadata": {},
   "outputs": [],
   "source": [
    "assert sum_valid_ids(test_input_1a, test_input_1b) == test_output_1"
   ]
  },
  {
   "cell_type": "code",
   "execution_count": 6,
   "id": "6f61f7e4-8c86-4e00-b493-fc21c2c3dc45",
   "metadata": {},
   "outputs": [
    {
     "data": {
      "text/plain": [
       "2476"
      ]
     },
     "execution_count": 6,
     "metadata": {},
     "output_type": "execute_result"
    }
   ],
   "source": [
    "with open('day02.txt') as FILE:\n",
    "    out = sum_valid_ids(FILE.read(), test_input_1b)\n",
    "out"
   ]
  },
  {
   "cell_type": "code",
   "execution_count": 8,
   "id": "0dbee900-4dd0-45a6-9eea-c41b560c42e0",
   "metadata": {},
   "outputs": [],
   "source": [
    "def cube_power(lines):\n",
    "    return sum(game['min_red']*game['min_green']*game['min_blue'] for game in parse_all_games(lines))"
   ]
  },
  {
   "cell_type": "code",
   "execution_count": 9,
   "id": "421d23f8-29b8-414f-b8a5-9665b18f748b",
   "metadata": {},
   "outputs": [
    {
     "name": "stdout",
     "output_type": "stream",
     "text": [
      "54911\n"
     ]
    }
   ],
   "source": [
    "with open('day02.txt') as FILE:\n",
    "    print(cube_power(FILE.read()))"
   ]
  },
  {
   "cell_type": "code",
   "execution_count": null,
   "id": "47c7ae55-5854-4b79-8c4a-0b832d48f0e5",
   "metadata": {},
   "outputs": [],
   "source": []
  }
 ],
 "metadata": {
  "kernelspec": {
   "display_name": "Python 3 (ipykernel)",
   "language": "python",
   "name": "python3"
  },
  "language_info": {
   "codemirror_mode": {
    "name": "ipython",
    "version": 3
   },
   "file_extension": ".py",
   "mimetype": "text/x-python",
   "name": "python",
   "nbconvert_exporter": "python",
   "pygments_lexer": "ipython3",
   "version": "3.10.12"
  }
 },
 "nbformat": 4,
 "nbformat_minor": 5
}
