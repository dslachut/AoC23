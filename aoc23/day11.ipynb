{
 "cells": [
  {
   "cell_type": "code",
   "execution_count": 23,
   "id": "51cdd431-8e9c-4f14-a852-621297486b46",
   "metadata": {},
   "outputs": [],
   "source": [
    "test_input_1 = '''...#......\n",
    ".......#..\n",
    "#.........\n",
    "..........\n",
    "......#...\n",
    ".#........\n",
    ".........#\n",
    "..........\n",
    ".......#..\n",
    "#...#.....\n",
    "'''\n",
    "test_output_1 = 374\n",
    "test_output_2 = 1030\n",
    "test_output_3 = 8410"
   ]
  },
  {
   "cell_type": "code",
   "execution_count": 2,
   "id": "4d2d9d6d-5586-4797-b505-43842b4f4e25",
   "metadata": {},
   "outputs": [],
   "source": [
    "import numpy as np"
   ]
  },
  {
   "cell_type": "code",
   "execution_count": 3,
   "id": "486b360a-f273-4286-b244-93dcb5fab808",
   "metadata": {},
   "outputs": [
    {
     "data": {
      "text/plain": [
       "(array([['.', '.', '.', '#', '.', '.', '.', '.', '.', '.'],\n",
       "        ['.', '.', '.', '.', '.', '.', '.', '#', '.', '.'],\n",
       "        ['#', '.', '.', '.', '.', '.', '.', '.', '.', '.'],\n",
       "        ['.', '.', '.', '.', '.', '.', '.', '.', '.', '.'],\n",
       "        ['.', '.', '.', '.', '.', '.', '#', '.', '.', '.'],\n",
       "        ['.', '#', '.', '.', '.', '.', '.', '.', '.', '.'],\n",
       "        ['.', '.', '.', '.', '.', '.', '.', '.', '.', '#'],\n",
       "        ['.', '.', '.', '.', '.', '.', '.', '.', '.', '.'],\n",
       "        ['.', '.', '.', '.', '.', '.', '.', '#', '.', '.'],\n",
       "        ['#', '.', '.', '.', '#', '.', '.', '.', '.', '.']], dtype='<U1'),\n",
       " (10, 10))"
      ]
     },
     "execution_count": 3,
     "metadata": {},
     "output_type": "execute_result"
    }
   ],
   "source": [
    "def parse_input(text):\n",
    "    return np.array([[c for c in line] for line in text.strip().split('\\n')])\n",
    "grid = parse_input(test_input_1)\n",
    "grid, grid.shape"
   ]
  },
  {
   "cell_type": "code",
   "execution_count": 4,
   "id": "e9ec97b8-3529-4355-89e0-96ca261cedaa",
   "metadata": {},
   "outputs": [
    {
     "data": {
      "text/plain": [
       "array([['.', '.', '.', '.', '#', '.', '.', '.', '.', '.', '.', '.', '.'],\n",
       "       ['.', '.', '.', '.', '.', '.', '.', '.', '.', '#', '.', '.', '.'],\n",
       "       ['#', '.', '.', '.', '.', '.', '.', '.', '.', '.', '.', '.', '.'],\n",
       "       ['.', '.', '.', '.', '.', '.', '.', '.', '.', '.', '.', '.', '.'],\n",
       "       ['.', '.', '.', '.', '.', '.', '.', '.', '.', '.', '.', '.', '.'],\n",
       "       ['.', '.', '.', '.', '.', '.', '.', '.', '#', '.', '.', '.', '.'],\n",
       "       ['.', '#', '.', '.', '.', '.', '.', '.', '.', '.', '.', '.', '.'],\n",
       "       ['.', '.', '.', '.', '.', '.', '.', '.', '.', '.', '.', '.', '#'],\n",
       "       ['.', '.', '.', '.', '.', '.', '.', '.', '.', '.', '.', '.', '.'],\n",
       "       ['.', '.', '.', '.', '.', '.', '.', '.', '.', '.', '.', '.', '.'],\n",
       "       ['.', '.', '.', '.', '.', '.', '.', '.', '.', '#', '.', '.', '.'],\n",
       "       ['#', '.', '.', '.', '.', '#', '.', '.', '.', '.', '.', '.', '.']],\n",
       "      dtype='<U1')"
      ]
     },
     "execution_count": 4,
     "metadata": {},
     "output_type": "execute_result"
    }
   ],
   "source": [
    "def expand_cosmos(grid):\n",
    "    for y in range(grid.shape[0]-1,-1,-1):\n",
    "        if np.all(grid[y,:] == '.'):\n",
    "            grid=np.vstack((grid[:y+1, :], grid[y,:], grid[y+1:,:]))\n",
    "    for x in range(grid.shape[1]-1, -1, -1):\n",
    "        if np.all(grid[:,x] == '.'):\n",
    "            grid=np.hstack((grid[:, :x+1], np.reshape(grid[:,x], (-1,1)), grid[:,x+1:]))\n",
    "    return grid\n",
    "grid = expand_cosmos(grid)\n",
    "grid"
   ]
  },
  {
   "cell_type": "code",
   "execution_count": 5,
   "id": "704f7a31-f678-406d-b0f9-7812c8375837",
   "metadata": {
    "collapsed": true,
    "jupyter": {
     "outputs_hidden": true
    }
   },
   "outputs": [
    {
     "data": {
      "text/plain": [
       "[(0, 4), (1, 9), (2, 0), (5, 8), (6, 1), (7, 12), (10, 9), (11, 0), (11, 5)]"
      ]
     },
     "execution_count": 5,
     "metadata": {},
     "output_type": "execute_result"
    }
   ],
   "source": [
    "def locate_galaxies(grid):\n",
    "    ys,xs = np.where(grid == '#')\n",
    "    return list(zip(ys,xs))\n",
    "locations = locate_galaxies(grid)\n",
    "locations"
   ]
  },
  {
   "cell_type": "code",
   "execution_count": 7,
   "id": "6fe95017-6d29-4539-aef1-10069758a90d",
   "metadata": {
    "collapsed": true,
    "jupyter": {
     "outputs_hidden": true
    }
   },
   "outputs": [
    {
     "data": {
      "text/plain": [
       "{((0, 4), (1, 9)): 6,\n",
       " ((0, 4), (2, 0)): 6,\n",
       " ((0, 4), (5, 8)): 9,\n",
       " ((0, 4), (6, 1)): 9,\n",
       " ((0, 4), (7, 12)): 15,\n",
       " ((0, 4), (10, 9)): 15,\n",
       " ((0, 4), (11, 0)): 15,\n",
       " ((0, 4), (11, 5)): 12,\n",
       " ((1, 9), (2, 0)): 10,\n",
       " ((1, 9), (5, 8)): 5,\n",
       " ((1, 9), (6, 1)): 13,\n",
       " ((1, 9), (7, 12)): 9,\n",
       " ((1, 9), (10, 9)): 9,\n",
       " ((1, 9), (11, 0)): 19,\n",
       " ((1, 9), (11, 5)): 14,\n",
       " ((2, 0), (5, 8)): 11,\n",
       " ((2, 0), (6, 1)): 5,\n",
       " ((2, 0), (7, 12)): 17,\n",
       " ((2, 0), (10, 9)): 17,\n",
       " ((2, 0), (11, 0)): 9,\n",
       " ((2, 0), (11, 5)): 14,\n",
       " ((5, 8), (6, 1)): 8,\n",
       " ((5, 8), (7, 12)): 6,\n",
       " ((5, 8), (10, 9)): 6,\n",
       " ((5, 8), (11, 0)): 14,\n",
       " ((5, 8), (11, 5)): 9,\n",
       " ((6, 1), (7, 12)): 12,\n",
       " ((6, 1), (10, 9)): 12,\n",
       " ((6, 1), (11, 0)): 6,\n",
       " ((6, 1), (11, 5)): 9,\n",
       " ((7, 12), (10, 9)): 6,\n",
       " ((7, 12), (11, 0)): 16,\n",
       " ((7, 12), (11, 5)): 11,\n",
       " ((10, 9), (11, 0)): 10,\n",
       " ((10, 9), (11, 5)): 5,\n",
       " ((11, 0), (11, 5)): 5}"
      ]
     },
     "execution_count": 7,
     "metadata": {},
     "output_type": "execute_result"
    }
   ],
   "source": [
    "def pair_distances(locations):\n",
    "    distances = {}\n",
    "    for i,a in enumerate(locations):\n",
    "        for b in locations[i+1:]:\n",
    "            distances[(a,b)] = abs(a[0] - b[0]) + abs(a[1]-b[1])\n",
    "    return distances\n",
    "pair_distances(locations)"
   ]
  },
  {
   "cell_type": "code",
   "execution_count": 10,
   "id": "9b289d6b-0b89-40a9-aff2-da212374961a",
   "metadata": {},
   "outputs": [],
   "source": [
    "def solve1(text):\n",
    "    return sum(pair_distances(locate_galaxies(expand_cosmos(parse_input(text)))).values())\n",
    "assert solve1(test_input_1) == test_output_1"
   ]
  },
  {
   "cell_type": "code",
   "execution_count": 11,
   "id": "05ba083c-231b-47a6-bbdf-b130f29a039c",
   "metadata": {},
   "outputs": [
    {
     "name": "stdout",
     "output_type": "stream",
     "text": [
      "9799681\n"
     ]
    }
   ],
   "source": [
    "with open('day11.txt') as FILE:\n",
    "    print(solve1(FILE.read()))"
   ]
  },
  {
   "cell_type": "code",
   "execution_count": 18,
   "id": "162ae5db-7a5c-482d-bf05-fbe26490c12e",
   "metadata": {},
   "outputs": [],
   "source": [
    "class ExpCosmos:\n",
    "\n",
    "    def __init__(self, grid, factor):\n",
    "        self.grid = grid\n",
    "        self.exp_factor = factor\n",
    "        self.expansions = [\n",
    "            [y for y in range(self.grid.shape[0]) if np.all(grid[y,:] == '.')],\n",
    "            [x for x in range(self.grid.shape[1]) if np.all(grid[:,x] == '.')],\n",
    "        ]\n",
    "        self.__locate_galaxies()\n",
    "        \n",
    "    def __locate_galaxies(self):\n",
    "        ys,xs = np.where(self.grid == '#')\n",
    "        self.gal_locs = list(zip(ys,xs))\n",
    "\n",
    "    def distance(self, loc1, loc2):\n",
    "        dist = [None, None]\n",
    "        for ax,_ in enumerate(dist):\n",
    "            source, destination = sorted([loc1[ax], loc2[ax]])\n",
    "            dist[ax] = destination - source\n",
    "            for exp in self.expansions[ax]:\n",
    "                if source < exp < destination:\n",
    "                    dist[ax] -= 1\n",
    "                    dist[ax] += self.exp_factor\n",
    "        return sum(dist)\n",
    "\n",
    "    def __repr__(self):\n",
    "        return f\"{self.exp_factor}\\n{self.expansions}\\n{self.gal_locs}\""
   ]
  },
  {
   "cell_type": "code",
   "execution_count": 26,
   "id": "b31d069b-0430-4152-a453-4ea6e3c0c2a9",
   "metadata": {},
   "outputs": [],
   "source": [
    "def solve2(text, factor=1_000_000):\n",
    "    grid = parse_input(text)\n",
    "    cosmos = ExpCosmos(grid, factor)\n",
    "    distances = {}\n",
    "    for i,a in enumerate(cosmos.gal_locs):\n",
    "        for b in cosmos.gal_locs[i+1:]:\n",
    "            distances[(a,b)] = cosmos.distance(a,b)\n",
    "    return sum(distances.values())\n",
    "assert solve2(test_input_1, 2) == test_output_1\n",
    "assert solve2(test_input_1, 10) == test_output_2\n",
    "assert solve2(test_input_1, 100) == test_output_3"
   ]
  },
  {
   "cell_type": "code",
   "execution_count": 27,
   "id": "91631033-03a5-4150-a069-11aa6331214c",
   "metadata": {},
   "outputs": [
    {
     "name": "stdout",
     "output_type": "stream",
     "text": [
      "513171773355\n"
     ]
    }
   ],
   "source": [
    "with open('day11.txt') as FILE:\n",
    "    print(solve2(FILE.read()))"
   ]
  },
  {
   "cell_type": "code",
   "execution_count": null,
   "id": "62141221-a4c4-495e-9b54-12b565cbc44b",
   "metadata": {},
   "outputs": [],
   "source": []
  }
 ],
 "metadata": {
  "kernelspec": {
   "display_name": "Python 3 (ipykernel)",
   "language": "python",
   "name": "python3"
  },
  "language_info": {
   "codemirror_mode": {
    "name": "ipython",
    "version": 3
   },
   "file_extension": ".py",
   "mimetype": "text/x-python",
   "name": "python",
   "nbconvert_exporter": "python",
   "pygments_lexer": "ipython3",
   "version": "3.10.12"
  }
 },
 "nbformat": 4,
 "nbformat_minor": 5
}
