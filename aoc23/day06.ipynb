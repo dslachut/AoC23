{
 "cells": [
  {
   "cell_type": "code",
   "execution_count": 1,
   "id": "ba1fd220-c77e-47df-8cb0-c365ae4b3181",
   "metadata": {},
   "outputs": [],
   "source": [
    "test_input = '''Time:      7  15   30\n",
    "Distance:  9  40  200\n",
    "'''\n",
    "test_output_1 = 288\n",
    "test_output_2 = 71503"
   ]
  },
  {
   "cell_type": "code",
   "execution_count": 2,
   "id": "d5b23127-dee0-4ed6-b3dc-fc590e5b8584",
   "metadata": {},
   "outputs": [],
   "source": [
    "import math"
   ]
  },
  {
   "cell_type": "code",
   "execution_count": 3,
   "id": "0a306713-5299-4d20-9268-d58baeab0a29",
   "metadata": {},
   "outputs": [
    {
     "data": {
      "text/plain": [
       "([7, 15, 30], [9, 40, 200])"
      ]
     },
     "execution_count": 3,
     "metadata": {},
     "output_type": "execute_result"
    }
   ],
   "source": [
    "def parse_input(text):\n",
    "    lines = text.strip().split('\\n')\n",
    "    times = [int(t) for t in lines[0].strip().split(' ') if t.isdigit()]\n",
    "    dists = [int(t) for t in lines[1].strip().split(' ') if t.isdigit()]\n",
    "    return times, dists\n",
    "parse_input(test_input)"
   ]
  },
  {
   "cell_type": "code",
   "execution_count": 4,
   "id": "be4c3fac-5168-4d96-81d1-93beeb0c31a2",
   "metadata": {},
   "outputs": [
    {
     "data": {
      "text/plain": [
       "{2, 3, 4, 5}"
      ]
     },
     "execution_count": 4,
     "metadata": {},
     "output_type": "execute_result"
    }
   ],
   "source": [
    "def travel(speed, time):\n",
    "    return (time - speed) * speed\n",
    "\n",
    "def find_winners(time, max_ax, record):\n",
    "    winners = set()\n",
    "    i = -1\n",
    "    while i <= max_ax:\n",
    "        i += 1\n",
    "        f,s = False, False\n",
    "        faster = max_ax + i\n",
    "        slower = max_ax - i\n",
    "        if travel(faster, time) > record:\n",
    "            winners.add(faster)\n",
    "            f = True\n",
    "        if travel(slower, time) > record:\n",
    "            winners.add(slower)\n",
    "            s = True\n",
    "        if not (s or f):\n",
    "            break\n",
    "    return winners\n",
    "find_winners(7, 3, 9)"
   ]
  },
  {
   "cell_type": "code",
   "execution_count": 5,
   "id": "764b6f72-2e09-43c0-8281-a34e6822af37",
   "metadata": {},
   "outputs": [],
   "source": [
    "def solve1(text):\n",
    "    times, dist_records = parse_input(text)\n",
    "    max_accels = [t//2 for t in times]\n",
    "    win_ways = [len(find_winners(times[i], max_accels[i], dist_records[i])) for i, _ in enumerate(times)]\n",
    "    return math.prod(win_ways)\n",
    "assert solve1(test_input) == test_output_1"
   ]
  },
  {
   "cell_type": "code",
   "execution_count": 6,
   "id": "6a72710d-9b3f-40ab-b385-687b8a8fc0d0",
   "metadata": {},
   "outputs": [
    {
     "name": "stdout",
     "output_type": "stream",
     "text": [
      "1108800\n"
     ]
    }
   ],
   "source": [
    "with open('day06.txt') as FILE:\n",
    "    print(solve1(FILE.read()))"
   ]
  },
  {
   "cell_type": "code",
   "execution_count": 10,
   "id": "7405068b-315c-47aa-afdc-bbcc7b845556",
   "metadata": {},
   "outputs": [
    {
     "data": {
      "text/plain": [
       "([71530], [940200])"
      ]
     },
     "execution_count": 10,
     "metadata": {},
     "output_type": "execute_result"
    }
   ],
   "source": [
    "def parse_input_2(text):\n",
    "    lines = text.strip().split('\\n')\n",
    "    time = int(lines[0].strip().replace(' ', '').split(':')[1])\n",
    "    dist = int(lines[1].strip().replace(' ', '').split(':')[1])\n",
    "    return [time], [dist]\n",
    "parse_input_2(test_input)"
   ]
  },
  {
   "cell_type": "code",
   "execution_count": 12,
   "id": "4a712ae3-d9e5-44d2-a896-3bc1b07ac6c3",
   "metadata": {},
   "outputs": [],
   "source": [
    "def solve2(text):\n",
    "    times, dist_records = parse_input_2(text)\n",
    "    max_accels = [t//2 for t in times]\n",
    "    win_ways = [len(find_winners(times[i], max_accels[i], dist_records[i])) for i, _ in enumerate(times)]\n",
    "    return math.prod(win_ways)\n",
    "assert solve2(test_input) == test_output_2"
   ]
  },
  {
   "cell_type": "code",
   "execution_count": 13,
   "id": "fbcae260-c881-4b6d-92d3-d3233f028cdd",
   "metadata": {},
   "outputs": [
    {
     "name": "stdout",
     "output_type": "stream",
     "text": [
      "36919753\n"
     ]
    }
   ],
   "source": [
    "with open('day06.txt') as FILE:\n",
    "    print(solve2(FILE.read()))"
   ]
  },
  {
   "cell_type": "code",
   "execution_count": null,
   "id": "47dfed8a-8545-48b2-bdf4-8c07ca4a8cc6",
   "metadata": {},
   "outputs": [],
   "source": []
  }
 ],
 "metadata": {
  "kernelspec": {
   "display_name": "Python 3 (ipykernel)",
   "language": "python",
   "name": "python3"
  },
  "language_info": {
   "codemirror_mode": {
    "name": "ipython",
    "version": 3
   },
   "file_extension": ".py",
   "mimetype": "text/x-python",
   "name": "python",
   "nbconvert_exporter": "python",
   "pygments_lexer": "ipython3",
   "version": "3.10.12"
  }
 },
 "nbformat": 4,
 "nbformat_minor": 5
}
