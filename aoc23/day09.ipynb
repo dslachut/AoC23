{
 "cells": [
  {
   "cell_type": "code",
   "execution_count": 1,
   "id": "8cdbba70-3e35-41b0-bac0-1fd750ad7ae5",
   "metadata": {},
   "outputs": [],
   "source": [
    "test_input_1 = \"\"\"0 3 6 9 12 15\n",
    "1 3 6 10 15 21\n",
    "10 13 16 21 30 45\n",
    "\"\"\"\n",
    "test_output_1 = 114\n",
    "test_output_2 = 2"
   ]
  },
  {
   "cell_type": "code",
   "execution_count": 2,
   "id": "20c99a01-7f82-4b28-ad1e-c0a84c4b513c",
   "metadata": {},
   "outputs": [],
   "source": [
    "class Pyramid:\n",
    "    def __init__(self, numbers):\n",
    "        self.__set_diffs(numbers)\n",
    "\n",
    "    def __set_diffs(self, numbers):\n",
    "        self.diffs = [numbers]\n",
    "        while any([x != 0 for x in self.diffs[-1]]):\n",
    "            last_row = self.diffs[-1]\n",
    "            new_row = [last_row[i+1] - v for i,v in enumerate(last_row[:-1])]\n",
    "            self.diffs.append(new_row)\n",
    "        self.diffs.reverse()\n",
    "\n",
    "    def next(self):\n",
    "        self.diffs[0].append(0)\n",
    "        for i,level in enumerate(self.diffs[1:]):\n",
    "            diff = self.diffs[i][-1]\n",
    "            prev = level[-1]\n",
    "            level.append(prev + diff)\n",
    "        return self.diffs[-1][-1]\n",
    "\n",
    "    def prev(self):\n",
    "        self.diffs[0] = [0] + self.diffs[0]\n",
    "        for i, level in enumerate(self.diffs[1:]):\n",
    "            diff = self.diffs[i][0]\n",
    "            next = level[0]\n",
    "            self.diffs[i+1] = [next - diff] + level\n",
    "        return self.diffs[-1][0]\n",
    "    \n",
    "    @property\n",
    "    def bottom(self):\n",
    "        return self.diffs[-1]\n",
    "\n",
    "    def __repr__(self):\n",
    "        return str(self.diffs)"
   ]
  },
  {
   "cell_type": "code",
   "execution_count": 3,
   "id": "ef76f533-4942-4520-9444-434c4867c2b4",
   "metadata": {},
   "outputs": [
    {
     "data": {
      "text/plain": [
       "[[[0, 0, 0, 0], [3, 3, 3, 3, 3], [0, 3, 6, 9, 12, 15]],\n",
       " [[0, 0, 0], [1, 1, 1, 1], [2, 3, 4, 5, 6], [1, 3, 6, 10, 15, 21]],\n",
       " [[0, 0], [2, 2, 2], [0, 2, 4, 6], [3, 3, 5, 9, 15], [10, 13, 16, 21, 30, 45]]]"
      ]
     },
     "execution_count": 3,
     "metadata": {},
     "output_type": "execute_result"
    }
   ],
   "source": [
    "def parse_input(text):\n",
    "    return [Pyramid([int(n) for n in line.split(' ')]) for line in text.strip().split('\\n')]\n",
    "parse_input(test_input_1)"
   ]
  },
  {
   "cell_type": "code",
   "execution_count": 4,
   "id": "3f91bd61-7ddd-44ff-8d5c-ef8b59817135",
   "metadata": {},
   "outputs": [],
   "source": [
    "def solve1(text):\n",
    "    pyrs = parse_input(text)\n",
    "    nexts = [p.next() for p in pyrs]\n",
    "    return sum(nexts)\n",
    "assert solve1(test_input_1) == 114"
   ]
  },
  {
   "cell_type": "code",
   "execution_count": 5,
   "id": "2e06e6e8-dc46-46b6-a39e-77e3d36bff5e",
   "metadata": {},
   "outputs": [
    {
     "name": "stdout",
     "output_type": "stream",
     "text": [
      "1887980197\n"
     ]
    }
   ],
   "source": [
    "with open('day09.txt') as FILE:\n",
    "    print(solve1(FILE.read()))"
   ]
  },
  {
   "cell_type": "code",
   "execution_count": 6,
   "id": "0d4384a9-023b-4f2b-81f5-45ccc3efd083",
   "metadata": {},
   "outputs": [],
   "source": [
    "def solve2(text):\n",
    "    pyrs = parse_input(text)\n",
    "    prevs = [p.prev() for p in pyrs]\n",
    "    return sum(prevs)\n",
    "assert solve2(test_input_1) == test_output_2"
   ]
  },
  {
   "cell_type": "code",
   "execution_count": 7,
   "id": "1a08c316-d1e1-422e-a979-4692777bcbdc",
   "metadata": {},
   "outputs": [
    {
     "name": "stdout",
     "output_type": "stream",
     "text": [
      "990\n"
     ]
    }
   ],
   "source": [
    "with open('day09.txt') as FILE:\n",
    "    print(solve2(FILE.read()))"
   ]
  },
  {
   "cell_type": "code",
   "execution_count": null,
   "id": "172c2726-778b-4480-912d-0b699a92247b",
   "metadata": {},
   "outputs": [],
   "source": []
  }
 ],
 "metadata": {
  "kernelspec": {
   "display_name": "Python 3 (ipykernel)",
   "language": "python",
   "name": "python3"
  },
  "language_info": {
   "codemirror_mode": {
    "name": "ipython",
    "version": 3
   },
   "file_extension": ".py",
   "mimetype": "text/x-python",
   "name": "python",
   "nbconvert_exporter": "python",
   "pygments_lexer": "ipython3",
   "version": "3.10.12"
  }
 },
 "nbformat": 4,
 "nbformat_minor": 5
}
