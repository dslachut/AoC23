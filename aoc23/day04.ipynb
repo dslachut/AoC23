{
 "cells": [
  {
   "cell_type": "code",
   "execution_count": 1,
   "id": "c0047e1d-63fc-4965-a3b4-65bfbf81f78e",
   "metadata": {},
   "outputs": [],
   "source": [
    "test_input = \"\"\"Card 1: 41 48 83 86 17 | 83 86  6 31 17  9 48 53\n",
    "Card 2: 13 32 20 16 61 | 61 30 68 82 17 32 24 19\n",
    "Card 3:  1 21 53 59 44 | 69 82 63 72 16 21 14  1\n",
    "Card 4: 41 92 73 84 69 | 59 84 76 51 58  5 54 83\n",
    "Card 5: 87 83 26 28 32 | 88 30 70 12 93 22 82 36\n",
    "Card 6: 31 18 13 56 72 | 74 77 10 23 35 67 36 11\n",
    "\"\"\"\n",
    "test_output_1 = 13\n",
    "test_output_2 = 30"
   ]
  },
  {
   "cell_type": "code",
   "execution_count": 2,
   "id": "0f139d9a-1aff-426e-9a45-c61be107ba44",
   "metadata": {},
   "outputs": [],
   "source": [
    "from dataclasses import dataclass\n",
    "from functools import cached_property"
   ]
  },
  {
   "cell_type": "code",
   "execution_count": 13,
   "id": "affb5e6e-89be-49f1-84ff-95c2b548b8fb",
   "metadata": {},
   "outputs": [],
   "source": [
    "@dataclass\n",
    "class Card:\n",
    "    num: int\n",
    "    wins: set[int]\n",
    "    havs: set[int]\n",
    "\n",
    "    @cached_property\n",
    "    def matches(self)->int:\n",
    "        return len(self.wins.intersection(self.havs))\n",
    "\n",
    "    @cached_property\n",
    "    def score(self)->int:\n",
    "        if self.matches == 0:\n",
    "            return 0\n",
    "        return 2**(self.matches-1)\n",
    "\n",
    "    @cached_property\n",
    "    def added_cards(self):\n",
    "        return list(range(self.num+1, self.num+1+self.matches))"
   ]
  },
  {
   "cell_type": "code",
   "execution_count": 14,
   "id": "531401e0-694c-4f95-b1c5-15a146cc45b8",
   "metadata": {},
   "outputs": [
    {
     "data": {
      "text/plain": [
       "([Card(num=1, wins={41, 48, 17, 83, 86}, havs={6, 9, 48, 17, 83, 53, 86, 31}),\n",
       "  Card(num=2, wins={32, 13, 16, 20, 61}, havs={32, 68, 17, 82, 19, 24, 61, 30}),\n",
       "  Card(num=3, wins={1, 44, 53, 21, 59}, havs={1, 69, 72, 14, 16, 82, 21, 63}),\n",
       "  Card(num=4, wins={69, 73, 41, 84, 92}, havs={5, 76, 51, 84, 83, 54, 58, 59}),\n",
       "  Card(num=5, wins={32, 83, 87, 26, 28}, havs={36, 70, 12, 82, 22, 88, 93, 30}),\n",
       "  Card(num=6, wins={72, 13, 18, 56, 31}, havs={35, 67, 36, 74, 10, 11, 77, 23})],\n",
       " [4, 2, 2, 1, 0, 0],\n",
       " [8, 2, 2, 1, 0, 0],\n",
       " [[2, 3, 4, 5], [3, 4], [4, 5], [5], [], []])"
      ]
     },
     "execution_count": 14,
     "metadata": {},
     "output_type": "execute_result"
    }
   ],
   "source": [
    "def parse_cards(raw_cards):\n",
    "    cards = []\n",
    "    lines = [line.strip().split(':') for line in raw_cards.split('\\n') if len(line) > 0]\n",
    "    for crd,nums in lines:\n",
    "        card_id = int(crd.strip().replace('   ', '  ').replace('  ', ' ').split(' ')[1])\n",
    "        raw_wins, raw_havs = nums.strip().split('|')\n",
    "        wins = {int(n) for n in raw_wins.strip().split(' ') if len(n) > 0}\n",
    "        havs = {int(n) for n in raw_havs.strip().split(' ') if len(n) > 0}\n",
    "        cards.append(Card(card_id, wins, havs))\n",
    "    return cards\n",
    "cards = parse_cards(test_input)\n",
    "assert sum([c.score for c in cards]) == test_output_1\n",
    "cards, [c.matches for c in cards], [c.score for c in cards], [c.added_cards for c in cards]"
   ]
  },
  {
   "cell_type": "code",
   "execution_count": 17,
   "id": "93e2b15b-c44e-4942-8697-9f5240093213",
   "metadata": {},
   "outputs": [],
   "source": [
    "def card_counter(cards):\n",
    "    max_card = sorted(cards, key=lambda x:x.num)[-1].num\n",
    "    counter = {c.num: 1 for c in cards}\n",
    "    for card in cards:\n",
    "        for n in card.added_cards:\n",
    "            if n > max_card:\n",
    "                continue\n",
    "            counter[n] += counter[card.num]\n",
    "    return counter\n",
    "assert sum(card_counter(parse_cards(test_input)).values()) == test_output_2"
   ]
  },
  {
   "cell_type": "code",
   "execution_count": 20,
   "id": "43f2bc4e-0ddb-42ab-bacd-fba70011023f",
   "metadata": {},
   "outputs": [
    {
     "name": "stdout",
     "output_type": "stream",
     "text": [
      "21088\n"
     ]
    }
   ],
   "source": [
    "with open('day04.txt') as FILE:\n",
    "    print(sum([c.score for c in parse_cards(FILE.read())]))"
   ]
  },
  {
   "cell_type": "code",
   "execution_count": 19,
   "id": "0d30c321-6a6e-4a7d-8a3d-91ae2729647f",
   "metadata": {},
   "outputs": [
    {
     "name": "stdout",
     "output_type": "stream",
     "text": [
      "6874754\n"
     ]
    }
   ],
   "source": [
    "with open('day04.txt') as FILE:\n",
    "    print(sum(card_counter(parse_cards(FILE.read())).values()))"
   ]
  },
  {
   "cell_type": "code",
   "execution_count": null,
   "id": "f527e8a8-6b2d-4c53-a6f3-a7dc6e47ee7d",
   "metadata": {},
   "outputs": [],
   "source": []
  }
 ],
 "metadata": {
  "kernelspec": {
   "display_name": "Python 3 (ipykernel)",
   "language": "python",
   "name": "python3"
  },
  "language_info": {
   "codemirror_mode": {
    "name": "ipython",
    "version": 3
   },
   "file_extension": ".py",
   "mimetype": "text/x-python",
   "name": "python",
   "nbconvert_exporter": "python",
   "pygments_lexer": "ipython3",
   "version": "3.10.12"
  }
 },
 "nbformat": 4,
 "nbformat_minor": 5
}
