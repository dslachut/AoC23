{
 "cells": [
  {
   "cell_type": "code",
   "execution_count": 13,
   "id": "72e93531-e5d1-4c9d-b394-745ee59e56d3",
   "metadata": {},
   "outputs": [],
   "source": [
    "test_input = '''467..114..\n",
    "...*......\n",
    "..35..633.\n",
    "......#...\n",
    "617*......\n",
    ".....+.58.\n",
    "..592.....\n",
    "......755.\n",
    "...$.*....\n",
    ".664.598..\n",
    "'''\n",
    "test_output_1 = 4361\n",
    "test_output_2 = 467835"
   ]
  },
  {
   "cell_type": "code",
   "execution_count": 2,
   "id": "82633070-8028-4ea2-817e-6cde5913adf0",
   "metadata": {},
   "outputs": [],
   "source": [
    "import numpy as np\n",
    "from dataclasses import dataclass"
   ]
  },
  {
   "cell_type": "code",
   "execution_count": 3,
   "id": "7d69b3dc-42ad-452c-9e56-a8d184ab714b",
   "metadata": {},
   "outputs": [
    {
     "data": {
      "text/plain": [
       "array([['4', '6', '7', '.', '.', '1', '1', '4', '.', '.'],\n",
       "       ['.', '.', '.', '*', '.', '.', '.', '.', '.', '.'],\n",
       "       ['.', '.', '3', '5', '.', '.', '6', '3', '3', '.'],\n",
       "       ['.', '.', '.', '.', '.', '.', '#', '.', '.', '.'],\n",
       "       ['6', '1', '7', '*', '.', '.', '.', '.', '.', '.'],\n",
       "       ['.', '.', '.', '.', '.', '+', '.', '5', '8', '.'],\n",
       "       ['.', '.', '5', '9', '2', '.', '.', '.', '.', '.'],\n",
       "       ['.', '.', '.', '.', '.', '.', '7', '5', '5', '.'],\n",
       "       ['.', '.', '.', '$', '.', '*', '.', '.', '.', '.'],\n",
       "       ['.', '6', '6', '4', '.', '5', '9', '8', '.', '.']], dtype='<U1')"
      ]
     },
     "execution_count": 3,
     "metadata": {},
     "output_type": "execute_result"
    }
   ],
   "source": [
    "def input_to_matrix(lines):\n",
    "    return np.array([np.array(list(line)) for line in lines.split('\\n') if len(line) > 0])\n",
    "input_to_matrix(test_input)"
   ]
  },
  {
   "cell_type": "code",
   "execution_count": 4,
   "id": "f8cd2142-f64d-4ea6-9620-48ce2ef4f222",
   "metadata": {},
   "outputs": [],
   "source": [
    "@dataclass\n",
    "class Part:\n",
    "    num: int\n",
    "    coords: list[tuple[int,int]]\n",
    "\n",
    "    def neighbor8(self, y, x):\n",
    "        for coord in self.coords:\n",
    "            if (coord[0]-y in {-1, 0, 1}) and (coord[1]-x in {-1, 0, 1}):\n",
    "                return True\n",
    "        return False"
   ]
  },
  {
   "cell_type": "code",
   "execution_count": 5,
   "id": "3bb2624c-94b3-4564-829a-e65969b4d8ef",
   "metadata": {},
   "outputs": [
    {
     "data": {
      "text/plain": [
       "[Part(num=467, coords=[(0, 0), (0, 1), (0, 2)]),\n",
       " Part(num=114, coords=[(0, 5), (0, 6), (0, 7)]),\n",
       " Part(num=35, coords=[(2, 2), (2, 3)]),\n",
       " Part(num=633, coords=[(2, 6), (2, 7), (2, 8)]),\n",
       " Part(num=617, coords=[(4, 0), (4, 1), (4, 2)]),\n",
       " Part(num=58, coords=[(5, 7), (5, 8)]),\n",
       " Part(num=592, coords=[(6, 2), (6, 3), (6, 4)]),\n",
       " Part(num=755, coords=[(7, 6), (7, 7), (7, 8)]),\n",
       " Part(num=664, coords=[(9, 1), (9, 2), (9, 3)]),\n",
       " Part(num=598, coords=[(9, 5), (9, 6), (9, 7)])]"
      ]
     },
     "execution_count": 5,
     "metadata": {},
     "output_type": "execute_result"
    }
   ],
   "source": [
    "def get_parts(input):\n",
    "    mtx = input_to_matrix(input)\n",
    "    parts = []\n",
    "    for y in range(mtx.shape[0]):\n",
    "        x = -1\n",
    "        while x < mtx.shape[1]:\n",
    "            x += 1\n",
    "            num = \"\"\n",
    "            coords = []\n",
    "            while x < mtx.shape[1] and mtx[y,x].isdigit():\n",
    "                num += mtx[y,x]\n",
    "                coords.append((y,x,))\n",
    "                x += 1\n",
    "            if num:\n",
    "                parts.append(Part(int(num), coords))\n",
    "    return parts\n",
    "get_parts(test_input)"
   ]
  },
  {
   "cell_type": "code",
   "execution_count": 6,
   "id": "f4ec351c-b6e5-415a-b48f-493ff46ab166",
   "metadata": {},
   "outputs": [
    {
     "data": {
      "text/plain": [
       "[(1, 3), (3, 6), (4, 3), (5, 5), (8, 3), (8, 5)]"
      ]
     },
     "execution_count": 6,
     "metadata": {},
     "output_type": "execute_result"
    }
   ],
   "source": [
    "def symbol_locs(input):\n",
    "    mtx = input_to_matrix(input)\n",
    "    syms = []\n",
    "    for y in range(mtx.shape[0]):\n",
    "        for x in range(mtx.shape[1]):\n",
    "            if mtx[y,x].isdigit():\n",
    "                continue\n",
    "            if mtx[y,x] == '.':\n",
    "                continue\n",
    "            syms.append((y,x))\n",
    "    return syms\n",
    "symbol_locs(test_input)"
   ]
  },
  {
   "cell_type": "code",
   "execution_count": 12,
   "id": "bbfd816f-6509-46d4-beed-017b14f5bd44",
   "metadata": {},
   "outputs": [
    {
     "data": {
      "text/plain": [
       "[(1, 3), (4, 3), (8, 5)]"
      ]
     },
     "execution_count": 12,
     "metadata": {},
     "output_type": "execute_result"
    }
   ],
   "source": [
    "def gear_locs(input):\n",
    "    mtx = input_to_matrix(input)\n",
    "    gears = []\n",
    "    for y in range(mtx.shape[0]):\n",
    "        for x in range(mtx.shape[1]):\n",
    "            if mtx[y,x] == '*':\n",
    "                gears.append((y,x))\n",
    "    return gears\n",
    "gear_locs(test_input)"
   ]
  },
  {
   "cell_type": "code",
   "execution_count": 7,
   "id": "0719808e-764f-44d7-855f-0cb8c6c0241a",
   "metadata": {},
   "outputs": [],
   "source": [
    "def find_8connected_parts(parts, syms):\n",
    "    connected_parts = []#set()\n",
    "    for loc in syms:\n",
    "        for part in parts:\n",
    "            if part.neighbor8(*loc):\n",
    "                #connected_parts.add(part.num)\n",
    "                connected_parts.append(part.num)\n",
    "    return connected_parts\n",
    "assert sum(find_8connected_parts(get_parts(test_input), symbol_locs(test_input))) == test_output_1"
   ]
  },
  {
   "cell_type": "code",
   "execution_count": 21,
   "id": "f7569a52-7527-44e7-9aa3-e64f26beddb4",
   "metadata": {},
   "outputs": [],
   "source": [
    "def find_gear_ratios(parts, gears):\n",
    "    rats = []\n",
    "    for loc in gears:\n",
    "        for i, part1 in enumerate(parts):\n",
    "            for part2 in parts[i+1:]:\n",
    "                if part1.neighbor8(*loc) and part2.neighbor8(*loc):\n",
    "                    rats.append(part1.num * part2.num)\n",
    "    return rats\n",
    "assert sum(find_gear_ratios(get_parts(test_input), gear_locs(test_input))) == test_output_2"
   ]
  },
  {
   "cell_type": "code",
   "execution_count": 8,
   "id": "02e5789d-943d-4f2e-9039-784c05adade6",
   "metadata": {},
   "outputs": [
    {
     "name": "stdout",
     "output_type": "stream",
     "text": [
      "539713\n"
     ]
    }
   ],
   "source": [
    "with open('day03.txt') as FILE:\n",
    "    inp = FILE.read()\n",
    "    print(sum(find_8connected_parts(get_parts(inp), symbol_locs(inp))))"
   ]
  },
  {
   "cell_type": "code",
   "execution_count": 22,
   "id": "fb78e8b9-51e4-412f-95e6-01edbaae3ad3",
   "metadata": {},
   "outputs": [
    {
     "name": "stdout",
     "output_type": "stream",
     "text": [
      "84159075\n"
     ]
    }
   ],
   "source": [
    "with open('day03.txt') as FILE:\n",
    "    inp = FILE.read()\n",
    "    print(sum(find_gear_ratios(get_parts(inp), gear_locs(inp))))"
   ]
  },
  {
   "cell_type": "code",
   "execution_count": 9,
   "id": "95948e36-796c-40e3-beb2-8713168f22f2",
   "metadata": {},
   "outputs": [
    {
     "name": "stdout",
     "output_type": "stream",
     "text": [
      "[['.' '.' '.' ... '3' '8' '7']\n",
      " ['.' '.' '.' ... '.' '.' '.']\n",
      " ['.' '.' '4' ... '.' '.' '.']\n",
      " ...\n",
      " ['.' '.' '.' ... '1' '.' '.']\n",
      " ['.' '.' '.' ... '.' '.' '.']\n",
      " ['.' '.' '.' ... '.' '.' '.']]\n"
     ]
    }
   ],
   "source": [
    "with open('day03.txt') as FILE:\n",
    "    print(input_to_matrix(FILE.read()))"
   ]
  },
  {
   "cell_type": "code",
   "execution_count": null,
   "id": "b6242c14-ffd1-4575-ad09-004b0ec7bb06",
   "metadata": {},
   "outputs": [],
   "source": []
  }
 ],
 "metadata": {
  "kernelspec": {
   "display_name": "Python 3 (ipykernel)",
   "language": "python",
   "name": "python3"
  },
  "language_info": {
   "codemirror_mode": {
    "name": "ipython",
    "version": 3
   },
   "file_extension": ".py",
   "mimetype": "text/x-python",
   "name": "python",
   "nbconvert_exporter": "python",
   "pygments_lexer": "ipython3",
   "version": "3.10.12"
  }
 },
 "nbformat": 4,
 "nbformat_minor": 5
}
