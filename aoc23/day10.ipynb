{
 "cells": [
  {
   "cell_type": "code",
   "execution_count": 1,
   "id": "3aa9b713-eb13-4ef7-b411-8962152bf4a4",
   "metadata": {},
   "outputs": [],
   "source": [
    "test_input_1 = '''.....\n",
    ".S-7.\n",
    ".|.|.\n",
    ".L-J.\n",
    ".....\n",
    "'''\n",
    "test_input_2 = '''-L|F7\n",
    "7S-7|\n",
    "L|7||\n",
    "-L-J|\n",
    "L|-JF\n",
    "'''\n",
    "test_output_1 = 4\n",
    "test_input_3 = '''..F7.\n",
    ".FJ|.\n",
    "SJ.L7\n",
    "|F--J\n",
    "LJ...\n",
    "'''\n",
    "test_input_4 = '''7-F7-\n",
    ".FJ|7\n",
    "SJLL7\n",
    "|F--J\n",
    "LJ.LJ\n",
    "'''\n",
    "test_output_2 = 8"
   ]
  },
  {
   "cell_type": "code",
   "execution_count": 2,
   "id": "1df7f090-6365-4f10-b088-3eab9affff2e",
   "metadata": {},
   "outputs": [],
   "source": [
    "from collections import deque\n",
    "import numpy as np"
   ]
  },
  {
   "cell_type": "code",
   "execution_count": 3,
   "id": "a85a78b1-07c4-4803-a49b-d8630d3b8400",
   "metadata": {},
   "outputs": [
    {
     "data": {
      "text/plain": [
       "(array([['.', '.', '.', '.', '.'],\n",
       "        ['.', 'S', '-', '7', '.'],\n",
       "        ['.', '|', '.', '|', '.'],\n",
       "        ['.', 'L', '-', 'J', '.'],\n",
       "        ['.', '.', '.', '.', '.']], dtype='<U1'),\n",
       " array([[inf, inf, inf, inf, inf],\n",
       "        [inf, inf, inf, inf, inf],\n",
       "        [inf, inf, inf, inf, inf],\n",
       "        [inf, inf, inf, inf, inf],\n",
       "        [inf, inf, inf, inf, inf]]))"
      ]
     },
     "execution_count": 3,
     "metadata": {},
     "output_type": "execute_result"
    }
   ],
   "source": [
    "def load_grid(text):\n",
    "    grid = np.array([np.array(list(l)) for l in text.strip().split('\\n')])\n",
    "    dists = np.ones(grid.shape) * np.inf\n",
    "    return grid, dists\n",
    "load_grid(test_input_1)"
   ]
  },
  {
   "cell_type": "code",
   "execution_count": 4,
   "id": "0920e03f-6ff6-44e6-acb0-56f5a7d3ffde",
   "metadata": {},
   "outputs": [],
   "source": [
    "def up(start):\n",
    "    return (start[0]-1, start[1])\n",
    "def down(start):\n",
    "    return (start[0]+1, start[1])\n",
    "def left(start):\n",
    "    return (start[0], start[1]-1)\n",
    "def right(start):\n",
    "    return (start[0], start[1]+1)\n",
    "def up_left(start):\n",
    "    return (start[0]-1, start[1]-1)\n",
    "def up_right(start):\n",
    "    return (start[0]-1, start[1]+1)\n",
    "def down_left(start):\n",
    "    return (start[0]+1, start[1]-1)\n",
    "def down_right(start):\n",
    "    return (start[0]+1, start[1]+1)"
   ]
  },
  {
   "cell_type": "code",
   "execution_count": 5,
   "id": "554f6fd6-e8f9-4fe2-aded-c59ec029dafc",
   "metadata": {},
   "outputs": [],
   "source": [
    "def neighbors(loc):\n",
    "    return [up(loc), right(loc), down(loc), left(loc)]"
   ]
  },
  {
   "cell_type": "code",
   "execution_count": 6,
   "id": "44475bf6-c1e8-45e5-b454-d29c3119144d",
   "metadata": {},
   "outputs": [],
   "source": [
    "def start_sym(grid, start):\n",
    "    #U = up(start)  # (start[0]-1, start[1])\n",
    "    #D = down(start)  # (start[0]+1, start[1])\n",
    "    #L = left(start)  # (start[0], start[1]-1)\n",
    "    #R = right(start)  # (start[0], start[1]+1)\n",
    "    U, R, D, L = neighbors(start)\n",
    "    u = {'|', '7', 'F'}\n",
    "    d = {'|', 'J', 'L'}\n",
    "    l = {'-', 'L', 'F'}\n",
    "    r = {'-', 'J', '7'}\n",
    "    #print(U)\n",
    "    if grid[U][0] in u and grid[D][0] in d:\n",
    "        return '|'\n",
    "    if grid[U][0] in u and grid[L][0] in l:\n",
    "        return 'J'\n",
    "    if grid[U][0] in u and grid[R][0] in r:\n",
    "        return 'L'\n",
    "    if grid[D][0] in d and grid[L][0] in l:\n",
    "        return '7'\n",
    "    if grid[D][0] in d and grid[R][0] in r:\n",
    "        return 'F'\n",
    "    if grid[L][0] in l and grid[R][0] in r:\n",
    "        return '-'"
   ]
  },
  {
   "cell_type": "code",
   "execution_count": 7,
   "id": "210cc43b-7853-4da9-8391-f7af7bffef9d",
   "metadata": {},
   "outputs": [
    {
     "name": "stderr",
     "output_type": "stream",
     "text": [
      "/tmp/ipykernel_1828140/745411952.py:33: RuntimeWarning: invalid value encountered in multiply\n",
      "  return int(np.nanmax((dists != np.inf)*dists)), grid, dists, start\n"
     ]
    }
   ],
   "source": [
    "def solve1(text):\n",
    "    grid, dists = load_grid(text)\n",
    "    start = np.where(grid == 'S')\n",
    "    #dists[start] = 0\n",
    "    grid[start] = start_sym(grid, start)\n",
    "    to_visit = deque()\n",
    "    to_visit.append((start, 0))\n",
    "    while len(to_visit) > 0:\n",
    "        coords, dist = to_visit.pop()\n",
    "        if dist >= dists[coords]:\n",
    "            continue\n",
    "        dists[coords] = dist\n",
    "        match grid[coords][0]:\n",
    "            case '|':\n",
    "                to_visit.append((up(coords), dist+1))\n",
    "                to_visit.append((down(coords), dist+1))\n",
    "            case '-':\n",
    "                to_visit.append((left(coords), dist+1))\n",
    "                to_visit.append((right(coords), dist+1))\n",
    "            case 'L':\n",
    "                to_visit.append((up(coords), dist+1))\n",
    "                to_visit.append((right(coords), dist+1))\n",
    "            case 'J':\n",
    "                to_visit.append((up(coords), dist+1))\n",
    "                to_visit.append((left(coords), dist+1))\n",
    "            case '7':\n",
    "                to_visit.append((left(coords), dist+1))\n",
    "                to_visit.append((down(coords), dist+1))\n",
    "            case 'F':\n",
    "                to_visit.append((right(coords), dist+1))\n",
    "                to_visit.append((down(coords), dist+1))\n",
    "    #return grid, dists, start, int(np.nanmax((dists != np.inf)*dists))\n",
    "    return int(np.nanmax((dists != np.inf)*dists)), grid, dists, start\n",
    "assert solve1(test_input_1)[0] == test_output_1\n",
    "assert solve1(test_input_2)[0] == test_output_1\n",
    "assert solve1(test_input_3)[0] == test_output_2\n",
    "assert solve1(test_input_4)[0] == test_output_2"
   ]
  },
  {
   "cell_type": "code",
   "execution_count": 8,
   "id": "9f0a9e44-4bd7-4536-8b56-57fc8d2ee1a6",
   "metadata": {},
   "outputs": [
    {
     "name": "stdout",
     "output_type": "stream",
     "text": [
      "6806\n"
     ]
    },
    {
     "name": "stderr",
     "output_type": "stream",
     "text": [
      "/tmp/ipykernel_1828140/745411952.py:33: RuntimeWarning: invalid value encountered in multiply\n",
      "  return int(np.nanmax((dists != np.inf)*dists)), grid, dists, start\n"
     ]
    }
   ],
   "source": [
    "with open('day10.txt') as FILE:\n",
    "    print(solve1(FILE.read())[0])"
   ]
  },
  {
   "cell_type": "code",
   "execution_count": 9,
   "id": "f75cb2af-5440-409d-b45f-6811ba547eda",
   "metadata": {
    "jupyter": {
     "source_hidden": true
    }
   },
   "outputs": [],
   "source": [
    "test_input_5 = \"\"\"...........\n",
    ".S-------7.\n",
    ".|F-----7|.\n",
    ".||.....||.\n",
    ".||.....||.\n",
    ".|L-7.F-J|.\n",
    ".|..|.|..|.\n",
    ".L--J.L--J.\n",
    "...........\n",
    "\"\"\"\n",
    "test_input_6 = \"\"\"..........\n",
    ".S------7.\n",
    ".|F----7|.\n",
    ".||....||.\n",
    ".||....||.\n",
    ".|L-7F-J|.\n",
    ".|..||..|.\n",
    ".L--JL--J.\n",
    "..........\n",
    "\"\"\"\n",
    "test_output_3 = 4\n",
    "test_input_7 = \"\"\".F----7F7F7F7F-7....\n",
    ".|F--7||||||||FJ....\n",
    ".||.FJ||||||||L7....\n",
    "FJL7L7LJLJ||LJ.L-7..\n",
    "L--J.L7...LJS7F-7L7.\n",
    "....F-J..F7FJ|L7L7L7\n",
    "....L7.F7||L7|.L7L7|\n",
    ".....|FJLJ|FJ|F7|.LJ\n",
    "....FJL-7.||.||||...\n",
    "....L---J.LJ.LJLJ...\n",
    "\"\"\"\n",
    "test_output_4 = 8\n",
    "test_input_8 = \"\"\"FF7FSF7F7F7F7F7F---7\n",
    "L|LJ||||||||||||F--J\n",
    "FL-7LJLJ||||||LJL-77\n",
    "F--JF--7||LJLJ7F7FJ-\n",
    "L---JF-JLJ.||-FJLJJ7\n",
    "|F|F-JF---7F7-L7L|7|\n",
    "|FFJF7L7F-JF7|JL---7\n",
    "7-L-JL7||F7|L7F-7F7|\n",
    "L.L7LFJ|||||FJL7||LJ\n",
    "L7JLJL-JLJLJL--JLJ.L\n",
    "\"\"\"\n",
    "test_output_5 = 10"
   ]
  },
  {
   "cell_type": "code",
   "execution_count": 10,
   "id": "7f8d03b7-8461-4ccf-a851-94471792e285",
   "metadata": {
    "jupyter": {
     "source_hidden": true
    }
   },
   "outputs": [],
   "source": [
    "def loc_to_tup(loc):\n",
    "    return (loc[0][0], loc[1][0])\n",
    "\n",
    "def tup_to_loc(tup):\n",
    "    return (np.array([tup[0]]), np.array([tup[1]]))"
   ]
  },
  {
   "cell_type": "code",
   "execution_count": 11,
   "id": "be61a78d-fb16-4321-ae7d-443d163bf13f",
   "metadata": {},
   "outputs": [],
   "source": [
    "def diag_neighbors(loc):\n",
    "    return [up_left(loc), up_right(loc), down_left(loc), down_right(loc)]"
   ]
  },
  {
   "cell_type": "code",
   "execution_count": 12,
   "id": "061b7ce1-382c-4bf3-b24c-d8fe5c222d17",
   "metadata": {},
   "outputs": [],
   "source": [
    "#U,R,D,L\n",
    "def navigate(start, dists, visited):\n",
    "    loc = start\n",
    "    right_hand = set()\n",
    "    left_hand = set()\n",
    "    prev_dir = None\n",
    "    while True:\n",
    "        next_loc = None\n",
    "        direction = None\n",
    "        visited[loc] = 1\n",
    "        for i,n in enumerate(neighbors(loc)):\n",
    "            if not ((0 <= n[0][0] < dists.shape[0]) and (0 <= n[1][0] < dists.shape[1])):\n",
    "                continue\n",
    "            if abs(dists[n] - dists[loc]) == 1 and visited[n][0] == 0:\n",
    "                next_loc = n\n",
    "                direction = i\n",
    "                break\n",
    "        if prev_dir is not None:\n",
    "            for i,n in enumerate(neighbors(loc)):\n",
    "                if not ((0 <= n[0][0] < dists.shape[0]) and (0 <= n[1][0] < dists.shape[1]) and np.isinf(dists[n])):\n",
    "                    continue\n",
    "                if i == (prev_dir+1) % 4:\n",
    "                    right_hand.add(loc_to_tup(n))\n",
    "                if prev_dir == (i+1) % 4:\n",
    "                    left_hand.add(loc_to_tup(n))\n",
    "        if next_loc is None:\n",
    "            break\n",
    "        for i,n in enumerate(neighbors(loc)):\n",
    "            if not ((0 <= n[0][0] < dists.shape[0]) and (0 <= n[1][0] < dists.shape[1]) and np.isinf(dists[n])):\n",
    "                continue\n",
    "            if i == (direction+1) % 4:\n",
    "                right_hand.add(loc_to_tup(n))\n",
    "            if direction == (i+1) % 4:\n",
    "                left_hand.add(loc_to_tup(n))\n",
    "        loc = next_loc\n",
    "        prev_dir = direction\n",
    "    return left_hand, right_hand"
   ]
  },
  {
   "cell_type": "code",
   "execution_count": 13,
   "id": "fbc83dfb-aad4-4b54-ab9f-563d79c76dfc",
   "metadata": {},
   "outputs": [],
   "source": [
    "def grow_blob(seeds, dists):\n",
    "    q = deque([tup_to_loc(s) for s in seeds])\n",
    "    while len(q) > 0:\n",
    "        loc = q.pop()\n",
    "        for i,n in enumerate(neighbors(loc)):\n",
    "            if loc_to_tup(n) in seeds:\n",
    "                continue\n",
    "            if (0 <= n[0][0] < dists.shape[0]) and (0 <= n[1][0] < dists.shape[1]) and np.isinf(dists[n]):\n",
    "                q.appendleft(n)\n",
    "                seeds.add(loc_to_tup(n))\n",
    "    return seeds"
   ]
  },
  {
   "cell_type": "code",
   "execution_count": 14,
   "id": "2cd97626-1c0d-4049-a06d-3dd49286cde3",
   "metadata": {},
   "outputs": [
    {
     "name": "stderr",
     "output_type": "stream",
     "text": [
      "/tmp/ipykernel_1828140/745411952.py:33: RuntimeWarning: invalid value encountered in multiply\n",
      "  return int(np.nanmax((dists != np.inf)*dists)), grid, dists, start\n"
     ]
    }
   ],
   "source": [
    "def solve2(text):\n",
    "    max_dist, grid, dists, start = solve1(text)\n",
    "    visited = np.zeros(grid.shape)\n",
    "    l,r = navigate(start, dists, visited)\n",
    "    l = grow_blob(l, dists)\n",
    "    r = grow_blob(r, dists)\n",
    "    return min(len(l),len(r))\n",
    "assert test_output_3 == solve2(test_input_5)  # 4\n",
    "assert test_output_3 == solve2(test_input_6)  # 4\n",
    "assert test_output_4 == solve2(test_input_7)  # 8\n",
    "assert test_output_5 == solve2(test_input_8)  # 10"
   ]
  },
  {
   "cell_type": "code",
   "execution_count": 15,
   "id": "aa64d749-5e60-49d9-b9e2-9e0ab1ff93cb",
   "metadata": {},
   "outputs": [
    {
     "name": "stderr",
     "output_type": "stream",
     "text": [
      "/tmp/ipykernel_1828140/745411952.py:33: RuntimeWarning: invalid value encountered in multiply\n",
      "  return int(np.nanmax((dists != np.inf)*dists)), grid, dists, start\n"
     ]
    },
    {
     "name": "stdout",
     "output_type": "stream",
     "text": [
      "449\n"
     ]
    }
   ],
   "source": [
    "with open('day10.txt') as FILE:\n",
    "    print(solve2(FILE.read()))"
   ]
  },
  {
   "cell_type": "code",
   "execution_count": null,
   "id": "7b545b1a-bb48-41b1-8a7d-b4bb29b26bc4",
   "metadata": {},
   "outputs": [],
   "source": []
  }
 ],
 "metadata": {
  "kernelspec": {
   "display_name": "Python 3 (ipykernel)",
   "language": "python",
   "name": "python3"
  },
  "language_info": {
   "codemirror_mode": {
    "name": "ipython",
    "version": 3
   },
   "file_extension": ".py",
   "mimetype": "text/x-python",
   "name": "python",
   "nbconvert_exporter": "python",
   "pygments_lexer": "ipython3",
   "version": "3.10.12"
  }
 },
 "nbformat": 4,
 "nbformat_minor": 5
}
